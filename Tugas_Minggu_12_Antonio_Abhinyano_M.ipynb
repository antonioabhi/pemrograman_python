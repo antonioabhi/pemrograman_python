{
  "nbformat": 4,
  "nbformat_minor": 0,
  "metadata": {
    "colab": {
      "name": "Tugas Minggu 12_Antonio Abhinyano M.ipynb",
      "provenance": [],
      "collapsed_sections": [],
      "authorship_tag": "ABX9TyMCongdcZK6cTYPEuXoHw+2",
      "include_colab_link": true
    },
    "kernelspec": {
      "name": "python3",
      "display_name": "Python 3"
    }
  },
  "cells": [
    {
      "cell_type": "markdown",
      "metadata": {
        "id": "view-in-github",
        "colab_type": "text"
      },
      "source": [
        "<a href=\"https://colab.research.google.com/github/antonioabhi/pemrograman_python/blob/main/Tugas_Minggu_12_Antonio_Abhinyano_M.ipynb\" target=\"_parent\"><img src=\"https://colab.research.google.com/assets/colab-badge.svg\" alt=\"Open In Colab\"/></a>"
      ]
    },
    {
      "cell_type": "code",
      "metadata": {
        "colab": {
          "base_uri": "https://localhost:8080/"
        },
        "id": "Pn7l6eNXCqEU",
        "outputId": "5238a086-ff57-478c-be92-eefa40103f7d"
      },
      "source": [
        "\r\n",
        "#program utama\r\n",
        "d = int(input(\"Masukkan jarak dalam kilometer: \"))\r\n",
        "fc = int(input(\"Masukkan frekuensi 150 MHz-2000 MHz: \"))\r\n",
        "area = input(\"Masukkan tipe area: \")\r\n",
        "ht = int(input(\"Masukkan tinggi antena pemancar 30-200 meter: \"))\r\n",
        "hr = int(input(\"Masukkan tinggi antena penerima 1-30 meter: \"))"
      ],
      "execution_count": null,
      "outputs": [
        {
          "output_type": "stream",
          "text": [
            "Masukkan jarak dalam kilometer: 250\n",
            "Masukkan frekuensi 150 MHz-2000 MHz: 1500\n",
            "Masukkan tipe area: open\n",
            "Masukkan tinggi antena pemancar 30-200 meter: 150\n",
            "Masukkan tinggi antena penerima 1-30 meter: 15\n"
          ],
          "name": "stdout"
        }
      ]
    },
    {
      "cell_type": "code",
      "metadata": {
        "id": "fS0tVezsCq6S"
      },
      "source": [
        "import numpy as np"
      ],
      "execution_count": null,
      "outputs": []
    },
    {
      "cell_type": "code",
      "metadata": {
        "id": "C9P9ThC3Cq_6"
      },
      "source": [
        "NtL = lambda x: 10*np.log10(x)"
      ],
      "execution_count": null,
      "outputs": []
    },
    {
      "cell_type": "code",
      "metadata": {
        "id": "JeI6prPzCrE2"
      },
      "source": [
        "LtN = lambda x: 10**(x/10)"
      ],
      "execution_count": null,
      "outputs": []
    },
    {
      "cell_type": "code",
      "metadata": {
        "id": "Ijw7UWUXCxWd"
      },
      "source": [
        "def cesatu (frek):\r\n",
        "  if frek in range (400,1500):\r\n",
        "    return 69.55\r\n",
        "\r\n",
        "  elif frek in range (1500,2000):\r\n",
        "    return 46.3"
      ],
      "execution_count": null,
      "outputs": []
    },
    {
      "cell_type": "code",
      "metadata": {
        "id": "Mrs_a6hNCxbU"
      },
      "source": [
        "def cedua (frek):\r\n",
        "  if frek in range (400,1500):\r\n",
        "    return 26.16\r\n",
        "\r\n",
        "  elif frek in range (1500,2000):\r\n",
        "    return 33.9"
      ],
      "execution_count": null,
      "outputs": []
    },
    {
      "cell_type": "code",
      "metadata": {
        "id": "JZ_KUvP7CxeQ"
      },
      "source": [
        "def ceem (area,fc):\r\n",
        "  if area ==  \"urban\":\r\n",
        "    return 0\r\n",
        "  if area == \"suburban\":\r\n",
        "    return -2*(np.log10(fc/28)**2 - 5.4)\r\n",
        "  if area == \"open\":\r\n",
        "    return -4.78*(np.log10(fc))**2 + 18.33*np.log10(fc) - 40.94"
      ],
      "execution_count": null,
      "outputs": []
    },
    {
      "cell_type": "code",
      "metadata": {
        "id": "-FlMn9loCxhG"
      },
      "source": [
        "def ahaer(frek):\r\n",
        "  return (1.1*np.log10(frek)-0.7)*hr - (1.56*np.log10(frek)-0.8)"
      ],
      "execution_count": null,
      "outputs": []
    },
    {
      "cell_type": "code",
      "metadata": {
        "id": "9CmzruKkCxne"
      },
      "source": [
        "c1 = cesatu(fc)\r\n",
        "c2 = cedua(fc)\r\n",
        "cm = ceem(area,fc)\r\n",
        "ahr = ahaer(fc)"
      ],
      "execution_count": null,
      "outputs": []
    },
    {
      "cell_type": "code",
      "metadata": {
        "colab": {
          "base_uri": "https://localhost:8080/"
        },
        "id": "4D5_UlZiC8CF",
        "outputId": "75544363-5baa-45fb-d8fa-64196ea6ab5c"
      },
      "source": [
        "\r\n",
        "print(c1)\r\n",
        "print(c2)\r\n",
        "print(cm)\r\n",
        "print(ahr)"
      ],
      "execution_count": null,
      "outputs": [
        {
          "output_type": "stream",
          "text": [
            "46.3\n",
            "33.9\n",
            "-30.940763399871905\n",
            "37.75080341029189\n"
          ],
          "name": "stdout"
        }
      ]
    },
    {
      "cell_type": "code",
      "metadata": {
        "colab": {
          "base_uri": "https://localhost:8080/"
        },
        "id": "UWGZO9rmC9ns",
        "outputId": "87c7d7cb-0c99-4dd6-ead5-5a6260bc4c73"
      },
      "source": [
        "pldb = c1 + c2*np.log10(fc) - 13.83*np.log10(ht) - ahr + (44.9-6.55*np.log10(ht))*np.log10(d) + cm\r\n",
        "print(\"Pathloss adalah: \" , pldb , \" db\")"
      ],
      "execution_count": null,
      "outputs": [
        {
          "output_type": "stream",
          "text": [
            "Pathloss adalah:  128.67129843185532  db\n"
          ],
          "name": "stdout"
        }
      ]
    }
  ]
}